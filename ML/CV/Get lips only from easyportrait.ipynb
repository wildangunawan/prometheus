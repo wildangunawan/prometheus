{
 "cells": [
  {
   "cell_type": "code",
   "execution_count": 2,
   "id": "02121f9f",
   "metadata": {},
   "outputs": [],
   "source": [
    "import torch, torchvision\n",
    "import torchvision.transforms as transforms"
   ]
  },
  {
   "cell_type": "code",
   "execution_count": 3,
   "id": "84c9a1c0",
   "metadata": {},
   "outputs": [],
   "source": [
    "# Taken from https://pytorch.org/vision/main/auto_examples/plot_visualization_utils.html#instance-segmentation-models\n",
    "import numpy as np\n",
    "import matplotlib.pyplot as plt\n",
    "import torchvision.transforms.functional as F\n",
    "\n",
    "plt.rcParams[\"savefig.bbox\"] = 'tight'\n",
    "\n",
    "def show(imgs):\n",
    "    if not isinstance(imgs, list):\n",
    "        imgs = [imgs]\n",
    "\n",
    "    fig, axs = plt.subplots(ncols=len(imgs), squeeze=False)\n",
    "\n",
    "    for i, img in enumerate(imgs):\n",
    "        img = img.detach()\n",
    "        img = F.to_pil_image(img)\n",
    "        axs[0, i].imshow(np.asarray(img))\n",
    "        axs[0, i].set(xticklabels=[], yticklabels=[], xticks=[], yticks=[])"
   ]
  },
  {
   "cell_type": "markdown",
   "id": "77912f79",
   "metadata": {},
   "source": [
    "View annotations"
   ]
  },
  {
   "cell_type": "code",
   "execution_count": 4,
   "id": "233c405b",
   "metadata": {},
   "outputs": [],
   "source": [
    "import os, random, shutil"
   ]
  },
  {
   "cell_type": "code",
   "execution_count": 5,
   "id": "fa93b63d",
   "metadata": {},
   "outputs": [],
   "source": [
    "images_folder = \"dataset\\\\easyportrait\\\\images\\\\\"\n",
    "annotations_folder = \"dataset\\\\easyportrait\\\\masks\\\\\""
   ]
  },
  {
   "cell_type": "code",
   "execution_count": 6,
   "id": "3fff6fb9",
   "metadata": {},
   "outputs": [],
   "source": [
    "images = [os.path.splitext(filename)[0] for filename in os.listdir(images_folder)]\n",
    "annotations = [os.path.splitext(filename)[0] for filename in os.listdir(annotations_folder)]"
   ]
  },
  {
   "cell_type": "markdown",
   "id": "6c3ca1cc",
   "metadata": {},
   "source": [
    "Get only lips\n",
    "\n",
    "| Index | Class      |\n",
    "|------:|:-----------|\n",
    "|     0 | BACKGROUND |\n",
    "|     1 | PERSON     |\n",
    "|     2 | SKIN       |\n",
    "|     3 | LEFT BROW  |\n",
    "|     4 | RIGHT_BROW |\n",
    "|     5 | LEFT_EYE   |\n",
    "|     6 | RIGHT_EYE  |\n",
    "|     7 | LIPS       |\n",
    "|     8 | TEETH      |"
   ]
  },
  {
   "cell_type": "code",
   "execution_count": 9,
   "id": "413390d5",
   "metadata": {},
   "outputs": [],
   "source": [
    "for i, filename in enumerate(random.choices(list(set(images) & set(annotations)), k=100)):\n",
    "    mask = torchvision.io.read_image(annotations_folder + filename + \".png\")\n",
    "    lips = (mask == 7).type(torch.float32)\n",
    "    \n",
    "    grid = torchvision.utils.make_grid(lips)\n",
    "    torchvision.utils.save_image(grid, \"dataset\\\\easyportrait\\\\training\\\\masks\\\\\" + str(i) + \"_easyportrait.png\")\n",
    "    \n",
    "    shutil.copyfile(images_folder + filename + \".jpg\", \"dataset\\\\easyportrait\\\\training\\\\images\\\\\" + str(i) + \"_easyportrait.jpg\")"
   ]
  }
 ],
 "metadata": {
  "kernelspec": {
   "display_name": "Python 3 (ipykernel)",
   "language": "python",
   "name": "python3"
  },
  "language_info": {
   "codemirror_mode": {
    "name": "ipython",
    "version": 3
   },
   "file_extension": ".py",
   "mimetype": "text/x-python",
   "name": "python",
   "nbconvert_exporter": "python",
   "pygments_lexer": "ipython3",
   "version": "3.11.7"
  }
 },
 "nbformat": 4,
 "nbformat_minor": 5
}
